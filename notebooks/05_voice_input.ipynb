{
 "cells": [
  {
   "cell_type": "code",
   "execution_count": 3,
   "id": "c330b72b-499e-4a51-b5b7-a01d5c44a1c0",
   "metadata": {
    "scrolled": true
   },
   "outputs": [
    {
     "name": "stdout",
     "output_type": "stream",
     "text": [
      "Requirement already satisfied: sounddevice in /opt/homebrew/Cellar/jupyterlab/4.4.0_1/libexec/lib/python3.13/site-packages (0.5.2)\n",
      "Requirement already satisfied: soundfile in /opt/homebrew/Cellar/jupyterlab/4.4.0_1/libexec/lib/python3.13/site-packages (0.13.1)\n",
      "Requirement already satisfied: speechrecognition in /opt/homebrew/Cellar/jupyterlab/4.4.0_1/libexec/lib/python3.13/site-packages (3.14.3)\n",
      "Requirement already satisfied: CFFI>=1.0 in /opt/homebrew/Cellar/jupyterlab/4.4.0_1/libexec/lib/python3.13/site-packages (from sounddevice) (1.17.1)\n",
      "Requirement already satisfied: numpy in /opt/homebrew/lib/python3.13/site-packages (from soundfile) (2.2.4)\n",
      "Requirement already satisfied: typing-extensions in /opt/homebrew/Cellar/jupyterlab/4.4.0_1/libexec/lib/python3.13/site-packages (from speechrecognition) (4.13.1)\n",
      "Requirement already satisfied: standard-aifc in /opt/homebrew/Cellar/jupyterlab/4.4.0_1/libexec/lib/python3.13/site-packages (from speechrecognition) (3.13.0)\n",
      "Requirement already satisfied: audioop-lts in /opt/homebrew/Cellar/jupyterlab/4.4.0_1/libexec/lib/python3.13/site-packages (from speechrecognition) (0.2.1)\n",
      "Requirement already satisfied: pycparser in /opt/homebrew/Cellar/jupyterlab/4.4.0_1/libexec/lib/python3.13/site-packages (from CFFI>=1.0->sounddevice) (2.22)\n",
      "Requirement already satisfied: standard-chunk in /opt/homebrew/Cellar/jupyterlab/4.4.0_1/libexec/lib/python3.13/site-packages (from standard-aifc->speechrecognition) (3.13.0)\n"
     ]
    }
   ],
   "source": [
    "import sys\n",
    "!{sys.executable} -m pip install sounddevice soundfile speechrecognition\n"
   ]
  },
  {
   "cell_type": "code",
   "execution_count": 4,
   "id": "a0b6c764-685f-4301-aa50-b2f9973cc1ed",
   "metadata": {
    "scrolled": true
   },
   "outputs": [
    {
     "name": "stdout",
     "output_type": "stream",
     "text": [
      "Defaulting to user installation because normal site-packages is not writeable\n",
      "Requirement already satisfied: sounddevice in /Users/aayushbhatia/Library/Python/3.9/lib/python/site-packages (0.5.2)\n",
      "Requirement already satisfied: scipy in /Users/aayushbhatia/Library/Python/3.9/lib/python/site-packages (1.13.1)\n",
      "Requirement already satisfied: SpeechRecognition in /Users/aayushbhatia/Library/Python/3.9/lib/python/site-packages (3.14.3)\n",
      "Requirement already satisfied: ipywidgets in /Users/aayushbhatia/Library/Python/3.9/lib/python/site-packages (8.1.7)\n",
      "Requirement already satisfied: CFFI>=1.0 in /Users/aayushbhatia/Library/Python/3.9/lib/python/site-packages (from sounddevice) (1.17.1)\n",
      "Requirement already satisfied: numpy<2.3,>=1.22.4 in /Users/aayushbhatia/Library/Python/3.9/lib/python/site-packages (from scipy) (2.0.2)\n",
      "Requirement already satisfied: typing-extensions in /Users/aayushbhatia/Library/Python/3.9/lib/python/site-packages (from SpeechRecognition) (4.12.2)\n",
      "Requirement already satisfied: widgetsnbextension~=4.0.14 in /Users/aayushbhatia/Library/Python/3.9/lib/python/site-packages (from ipywidgets) (4.0.14)\n",
      "Requirement already satisfied: traitlets>=4.3.1 in /Users/aayushbhatia/Library/Python/3.9/lib/python/site-packages (from ipywidgets) (5.14.3)\n",
      "Requirement already satisfied: jupyterlab_widgets~=3.0.15 in /Users/aayushbhatia/Library/Python/3.9/lib/python/site-packages (from ipywidgets) (3.0.15)\n",
      "Requirement already satisfied: ipython>=6.1.0 in /Users/aayushbhatia/Library/Python/3.9/lib/python/site-packages (from ipywidgets) (8.18.1)\n",
      "Requirement already satisfied: comm>=0.1.3 in /Users/aayushbhatia/Library/Python/3.9/lib/python/site-packages (from ipywidgets) (0.2.2)\n",
      "Requirement already satisfied: pycparser in /Users/aayushbhatia/Library/Python/3.9/lib/python/site-packages (from CFFI>=1.0->sounddevice) (2.22)\n",
      "Requirement already satisfied: pexpect>4.3 in /Users/aayushbhatia/Library/Python/3.9/lib/python/site-packages (from ipython>=6.1.0->ipywidgets) (4.9.0)\n",
      "Requirement already satisfied: stack-data in /Users/aayushbhatia/Library/Python/3.9/lib/python/site-packages (from ipython>=6.1.0->ipywidgets) (0.6.3)\n",
      "Requirement already satisfied: exceptiongroup in /Users/aayushbhatia/Library/Python/3.9/lib/python/site-packages (from ipython>=6.1.0->ipywidgets) (1.2.2)\n",
      "Requirement already satisfied: jedi>=0.16 in /Users/aayushbhatia/Library/Python/3.9/lib/python/site-packages (from ipython>=6.1.0->ipywidgets) (0.19.2)\n",
      "Requirement already satisfied: pygments>=2.4.0 in /Users/aayushbhatia/Library/Python/3.9/lib/python/site-packages (from ipython>=6.1.0->ipywidgets) (2.19.1)\n",
      "Requirement already satisfied: matplotlib-inline in /Users/aayushbhatia/Library/Python/3.9/lib/python/site-packages (from ipython>=6.1.0->ipywidgets) (0.1.7)\n",
      "Requirement already satisfied: decorator in /Users/aayushbhatia/Library/Python/3.9/lib/python/site-packages (from ipython>=6.1.0->ipywidgets) (5.1.1)\n",
      "Requirement already satisfied: prompt-toolkit<3.1.0,>=3.0.41 in /Users/aayushbhatia/Library/Python/3.9/lib/python/site-packages (from ipython>=6.1.0->ipywidgets) (3.0.50)\n",
      "Requirement already satisfied: parso<0.9.0,>=0.8.4 in /Users/aayushbhatia/Library/Python/3.9/lib/python/site-packages (from jedi>=0.16->ipython>=6.1.0->ipywidgets) (0.8.4)\n",
      "Requirement already satisfied: ptyprocess>=0.5 in /Users/aayushbhatia/Library/Python/3.9/lib/python/site-packages (from pexpect>4.3->ipython>=6.1.0->ipywidgets) (0.7.0)\n",
      "Requirement already satisfied: wcwidth in /Users/aayushbhatia/Library/Python/3.9/lib/python/site-packages (from prompt-toolkit<3.1.0,>=3.0.41->ipython>=6.1.0->ipywidgets) (0.2.13)\n",
      "Requirement already satisfied: pure-eval in /Users/aayushbhatia/Library/Python/3.9/lib/python/site-packages (from stack-data->ipython>=6.1.0->ipywidgets) (0.2.3)\n",
      "Requirement already satisfied: executing>=1.2.0 in /Users/aayushbhatia/Library/Python/3.9/lib/python/site-packages (from stack-data->ipython>=6.1.0->ipywidgets) (2.2.0)\n",
      "Requirement already satisfied: asttokens>=2.1.0 in /Users/aayushbhatia/Library/Python/3.9/lib/python/site-packages (from stack-data->ipython>=6.1.0->ipywidgets) (3.0.0)\n",
      "\u001b[33mWARNING: You are using pip version 21.2.4; however, version 25.1.1 is available.\n",
      "You should consider upgrading via the '/Library/Developer/CommandLineTools/usr/bin/python3 -m pip install --upgrade pip' command.\u001b[0m\n"
     ]
    }
   ],
   "source": [
    "!pip3 install sounddevice scipy SpeechRecognition ipywidgets\n"
   ]
  },
  {
   "cell_type": "code",
   "execution_count": 4,
   "id": "0141844d-d9e4-4770-aa06-42f42a8e7837",
   "metadata": {
    "scrolled": true
   },
   "outputs": [
    {
     "data": {
      "application/vnd.jupyter.widget-view+json": {
       "model_id": "dbb66535d0d647abb966665c54dab022",
       "version_major": 2,
       "version_minor": 0
      },
      "text/plain": [
       "VBox(children=(IntSlider(value=30, continuous_update=False, description='⏱ Duration (sec)', max=120, min=5, st…"
      ]
     },
     "metadata": {},
     "output_type": "display_data"
    }
   ],
   "source": [
    "# ✅ Step 1: Imports\n",
    "import os\n",
    "import sys\n",
    "import time\n",
    "import threading\n",
    "\n",
    "sys.path.append(os.path.abspath(\"..\"))\n",
    "\n",
    "from utils.voice_input import record_voice, transcribe_and_append\n",
    "import ipywidgets as widgets\n",
    "from IPython.display import display, clear_output\n",
    "\n",
    "# ✅ Step 2: UI Setup\n",
    "record_btn = widgets.Button(description=\"🎙️ Start Recording\", button_style=\"danger\")\n",
    "clear_btn = widgets.Button(description=\"🧹 Clear Previous Transcript\", button_style=\"warning\")\n",
    "duration_slider = widgets.IntSlider(\n",
    "    value=30,\n",
    "    min=5,\n",
    "    max=120,\n",
    "    step=5,\n",
    "    description='⏱ Duration (sec)',\n",
    "    style={'description_width': 'initial'},\n",
    "    continuous_update=False\n",
    ")\n",
    "timer_label = widgets.Label(value=\"⏱ 0 sec\")\n",
    "output = widgets.Output()\n",
    "\n",
    "# ✅ Step 3: Timer Thread\n",
    "def update_timer(duration):\n",
    "    for i in range(duration + 1):\n",
    "        timer_label.value = f\"⏱ {i} sec\"\n",
    "        time.sleep(1)\n",
    "\n",
    "# ✅ Step 4: Button Functionalities\n",
    "def start_recording(_):\n",
    "    with output:\n",
    "        clear_output()\n",
    "        duration = duration_slider.value\n",
    "        timer_thread = threading.Thread(target=update_timer, args=(duration,))\n",
    "        timer_thread.start()\n",
    "\n",
    "        wav_path, timestamp = record_voice(duration)\n",
    "        text = transcribe_and_append(wav_path, timestamp)\n",
    "        timer_label.value = \"✅ Recording complete!\"\n",
    "\n",
    "        if text:\n",
    "            print(\"\\n🔍 Preview:\\n\")\n",
    "            print(text[:1000])\n",
    "\n",
    "def clear_transcript(_):\n",
    "    latest_path = \"../assets/voice_transcripts/transcript_latest.txt\"\n",
    "    if os.path.exists(latest_path):\n",
    "        with open(latest_path, \"w\", encoding=\"utf-8\") as f:\n",
    "            f.write(\"\")\n",
    "        with output:\n",
    "            clear_output()\n",
    "            print(\"🧹 transcript_latest.txt cleared.\")\n",
    "    else:\n",
    "        with output:\n",
    "            clear_output()\n",
    "            print(\"⚠️ transcript_latest.txt does not exist yet.\")\n",
    "\n",
    "record_btn.on_click(start_recording)\n",
    "clear_btn.on_click(clear_transcript)\n",
    "\n",
    "# ✅ Step 5: Display UI\n",
    "display(widgets.VBox([duration_slider, timer_label, record_btn, clear_btn, output]))\n"
   ]
  },
  {
   "cell_type": "code",
   "execution_count": null,
   "id": "d6636ed6-eade-4f4b-a88c-f5e056c8820c",
   "metadata": {},
   "outputs": [],
   "source": []
  }
 ],
 "metadata": {
  "kernelspec": {
   "display_name": "Python 3 (ipykernel)",
   "language": "python",
   "name": "python3"
  },
  "language_info": {
   "codemirror_mode": {
    "name": "ipython",
    "version": 3
   },
   "file_extension": ".py",
   "mimetype": "text/x-python",
   "name": "python",
   "nbconvert_exporter": "python",
   "pygments_lexer": "ipython3",
   "version": "3.13.3"
  }
 },
 "nbformat": 4,
 "nbformat_minor": 5
}
