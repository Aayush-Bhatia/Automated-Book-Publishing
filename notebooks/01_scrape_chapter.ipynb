{
 "cells": [
  {
   "cell_type": "code",
   "execution_count": 7,
   "id": "94cb4662-8a00-4e86-b015-3227eac9d6da",
   "metadata": {},
   "outputs": [
    {
     "name": "stdout",
     "output_type": "stream",
     "text": [
      "Defaulting to user installation because normal site-packages is not writeable\n",
      "Requirement already satisfied: playwright in /Users/aayushbhatia/Library/Python/3.9/lib/python/site-packages (1.53.0)\n",
      "Requirement already satisfied: pyee<14,>=13 in /Users/aayushbhatia/Library/Python/3.9/lib/python/site-packages (from playwright) (13.0.0)\n",
      "Requirement already satisfied: greenlet<4.0.0,>=3.1.1 in /Users/aayushbhatia/Library/Python/3.9/lib/python/site-packages (from playwright) (3.2.3)\n",
      "Requirement already satisfied: typing-extensions in /Users/aayushbhatia/Library/Python/3.9/lib/python/site-packages (from pyee<14,>=13->playwright) (4.12.2)\n",
      "\u001b[33mWARNING: You are using pip version 21.2.4; however, version 25.1.1 is available.\n",
      "You should consider upgrading via the '/Library/Developer/CommandLineTools/usr/bin/python3 -m pip install --upgrade pip' command.\u001b[0m\n"
     ]
    }
   ],
   "source": [
    "!pip3 install playwright\n",
    "\n"
   ]
  },
  {
   "cell_type": "code",
<<<<<<< HEAD
   "execution_count": 2,
=======
   "execution_count": 5,
>>>>>>> 6f0beb6 (initial workflow done)
   "id": "9fc946c0-7f3e-46e9-b66c-f12dae0e5027",
   "metadata": {
    "scrolled": true
   },
   "outputs": [
    {
     "name": "stdout",
     "output_type": "stream",
     "text": [
      "📂 Current Directory: /Users/aayushbhatia/codingblocks_classes/Automated Book Publishing\n",
      "🌐 Navigating to: https://en.wikisource.org/wiki/The_Gates_of_Morning/Book_1/Chapter_1\n",
      "📸 Screenshot saved → assets/screenshots/chapter1.png\n",
      "📄 Text saved → assets/raw_text/chapter1.txt\n",
      "\n",
<<<<<<< HEAD
      "-- Chapter Preview:\n",
=======
      "🧾 Chapter Preview:\n",
>>>>>>> 6f0beb6 (initial workflow done)
      "\n",
      "Download\n",
      "< The Gates of Morning | Book 1\n",
      "\t\t\t\t\t\n",
      "←\n",
      "Book 1\n",
      "The Gates of Morning/Book 1\n",
      "by Henry De Vere Stacpoole\n",
      "Book 1. Chapter 1\n",
      "Chapter 2\n",
      "→\n",
      "\n",
      "\"The Gates of Morning\"\n",
      "\n",
      "CHAPTER I\n",
      "\n",
      "THE CANOE BUILDER\n",
      "\n",
      "D\n",
      "ICK standing on a ledge of coral cast his eyes to the South.\n",
      "\n",
      "Behind him the breakers of the outer sea thundered and the spindrift scattered on the wind; before him stretched an ocean calm as a lake, infinite, blue, and flown about by the fishing gulls—the lagoon of Karolin.\n",
      "\n",
      "Clipped by its forty-mile\n"
     ]
    }
   ],
   "source": [
<<<<<<< HEAD
    "\n",
=======
    "# 📌 Step 0: Ensure you are in the project root (not inside /notebooks)\n",
>>>>>>> 6f0beb6 (initial workflow done)
    "import os\n",
    "\n",
    "if os.getcwd().endswith(\"notebooks\"):\n",
    "    os.chdir(\"..\")\n",
    "    print(\"✅ Moved to project root:\", os.getcwd())\n",
    "\n",
    "print(\"📂 Current Directory:\", os.getcwd())\n",
    "\n",
<<<<<<< HEAD
    "\n",
    "import asyncio\n",
    "from playwright.async_api import async_playwright\n",
    "\n",
    "# required folders if not present\n",
    "os.makedirs(\"assets/screenshots\", exist_ok=True)\n",
    "os.makedirs(\"assets/raw_text\", exist_ok=True)\n",
    "\n",
    "# scraper using Playwright\n",
=======
    "# 📌 Step 1: Import libraries\n",
    "import asyncio\n",
    "from playwright.async_api import async_playwright\n",
    "\n",
    "# 📌 Step 2: Create required folders if not already present\n",
    "os.makedirs(\"assets/screenshots\", exist_ok=True)\n",
    "os.makedirs(\"assets/raw_text\", exist_ok=True)\n",
    "\n",
    "# 📌 Step 3: Scraper function using Playwright\n",
>>>>>>> 6f0beb6 (initial workflow done)
    "async def scrape_chapter(url: str, screenshot_path: str, text_path: str) -> str | None:\n",
    "    try:\n",
    "        async with async_playwright() as p:\n",
    "            browser = await p.chromium.launch()\n",
    "            page = await browser.new_page()\n",
    "            print(f\"🌐 Navigating to: {url}\")\n",
    "            await page.goto(url, timeout=60000)\n",
    "\n",
    "            await page.wait_for_selector(\"div#bodyContent\")\n",
    "\n",
    "            # Save screenshot\n",
    "            await page.screenshot(path=screenshot_path, full_page=True)\n",
    "            print(f\"📸 Screenshot saved → {screenshot_path}\")\n",
    "\n",
    "            # Extract and save text\n",
    "            chapter_text = await page.inner_text(\"div#bodyContent\")\n",
    "            with open(text_path, \"w\", encoding=\"utf-8\") as f:\n",
    "                f.write(chapter_text)\n",
    "            print(f\"📄 Text saved → {text_path}\")\n",
    "\n",
    "            await browser.close()\n",
    "            return chapter_text\n",
    "\n",
    "    except Exception as e:\n",
    "        print(f\"❌ Scraping Error: {e}\")\n",
    "        return None\n",
    "\n",
<<<<<<< HEAD
    "#input & output paths\n",
=======
    "# 📌 Step 4: Define input & output paths\n",
>>>>>>> 6f0beb6 (initial workflow done)
    "url = \"https://en.wikisource.org/wiki/The_Gates_of_Morning/Book_1/Chapter_1\"\n",
    "screenshot_path = \"assets/screenshots/chapter1.png\"\n",
    "text_path = \"assets/raw_text/chapter1.txt\"\n",
    "\n",
<<<<<<< HEAD
    "#scraper\n",
    "chapter_text = await scrape_chapter(url, screenshot_path, text_path)\n",
    "\n",
    "# Preview\n",
    "if chapter_text:\n",
    "    print(\"\\n-- Chapter Preview:\\n\")\n",
    "    print(chapter_text[:500])\n",
    "else:\n",
    "    print(\"-- Failed to fetch content.\")\n"
=======
    "# 📌 Step 5: Run the scraper\n",
    "chapter_text = await scrape_chapter(url, screenshot_path, text_path)\n",
    "\n",
    "# 📌 Step 6: Preview\n",
    "if chapter_text:\n",
    "    print(\"\\n🧾 Chapter Preview:\\n\")\n",
    "    print(chapter_text[:500])\n",
    "else:\n",
    "    print(\"⚠️ Failed to fetch content.\")\n"
>>>>>>> 6f0beb6 (initial workflow done)
   ]
  },
  {
   "cell_type": "code",
   "execution_count": null,
   "id": "e9b0aa34-c243-48c3-a9dd-360257684d3d",
   "metadata": {},
   "outputs": [],
   "source": []
  }
 ],
 "metadata": {
  "kernelspec": {
   "display_name": "Python 3 (ipykernel)",
   "language": "python",
   "name": "python3"
  },
  "language_info": {
   "codemirror_mode": {
    "name": "ipython",
    "version": 3
   },
   "file_extension": ".py",
   "mimetype": "text/x-python",
   "name": "python",
   "nbconvert_exporter": "python",
   "pygments_lexer": "ipython3",
   "version": "3.13.3"
  }
 },
 "nbformat": 4,
 "nbformat_minor": 5
}
