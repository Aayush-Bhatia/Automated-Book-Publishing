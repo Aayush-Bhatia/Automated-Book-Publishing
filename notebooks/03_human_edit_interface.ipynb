{
 "cells": [
  {
   "cell_type": "code",
<<<<<<< HEAD
   "execution_count": 1,
=======
   "execution_count": 12,
>>>>>>> 6f0beb6 (initial workflow done)
   "id": "2c3acbe3-c15c-4e71-ad4a-183285810d14",
   "metadata": {},
   "outputs": [
    {
     "name": "stdout",
     "output_type": "stream",
     "text": [
      "📂 Current Directory: /Users/aayushbhatia/codingblocks_classes/Automated Book Publishing\n"
     ]
    },
    {
     "data": {
      "application/vnd.jupyter.widget-view+json": {
<<<<<<< HEAD
       "model_id": "31b95af439a94b098156470b967ce603",
=======
       "model_id": "3a5470c2414c4904b1251c80df2cd06c",
>>>>>>> 6f0beb6 (initial workflow done)
       "version_major": 2,
       "version_minor": 0
      },
      "text/plain": [
       "VBox(children=(Dropdown(description='📄 Select File:', layout=Layout(width='90%'), options=('assets/spun_text/s…"
      ]
     },
     "metadata": {},
     "output_type": "display_data"
    }
   ],
   "source": [
    "# 📌 Step 0: Ensure you're in the root directory\n",
    "import os\n",
    "if os.getcwd().endswith(\"notebooks\"):\n",
    "    os.chdir(\"..\")\n",
    "print(\"📂 Current Directory:\", os.getcwd())\n",
    "\n",
    "# 📌 Step 1: Imports\n",
    "import datetime\n",
    "from pathlib import Path\n",
    "import ipywidgets as widgets\n",
    "from IPython.display import display, clear_output\n",
    "\n",
    "# 📌 Step 2: Folder paths\n",
    "SPUN_DIR = \"assets/spun_text\"\n",
    "REVIEWED_DIR = \"assets/reviewed_text\"\n",
    "TRANSCRIPT_DIR = \"assets/voice_transcripts\"\n",
    "EDITED_DIR = \"assets/human_edits\"\n",
    "\n",
    "# Make sure output folder exists\n",
    "os.makedirs(EDITED_DIR, exist_ok=True)\n",
    "\n",
    "# 📌 Step 3: Get all versioned files (from spun + reviewed + transcripts)\n",
    "def list_all_versioned_files():\n",
    "    versioned_files = []\n",
    "    for folder in [SPUN_DIR, REVIEWED_DIR, TRANSCRIPT_DIR]:\n",
    "        if os.path.exists(folder):\n",
    "            for file in sorted(os.listdir(folder)):\n",
    "                if file.endswith(\".txt\"):\n",
    "                    versioned_files.append(os.path.join(folder, file))\n",
    "    return versioned_files\n",
    "\n",
    "# 📌 Step 4: Dropdown for file selection\n",
    "dropdown = widgets.Dropdown(\n",
    "    options=list_all_versioned_files(),\n",
    "    description='📄 Select File:',\n",
    "    layout=widgets.Layout(width=\"90%\")\n",
    ")\n",
    "\n",
    "# 📌 Step 5: Text area for editing\n",
    "text_editor = widgets.Textarea(\n",
    "    value=\"\",\n",
    "    placeholder=\"📝 Load a file to begin editing...\",\n",
    "    description='Editor:',\n",
    "    layout=widgets.Layout(width='100%', height='400px')\n",
    ")\n",
    "\n",
    "# 📌 Step 6: Buttons\n",
    "load_button = widgets.Button(description=\"📂 Load File\", icon=\"folder-open\")\n",
    "save_button = widgets.Button(description=\"💾 Save Edit\", icon=\"save\", button_style=\"success\")\n",
    "output_box = widgets.Output()\n",
    "\n",
    "# 📌 Step 7: Load content into textarea\n",
    "def load_selected_file(_):\n",
    "    selected_file = dropdown.value\n",
    "    if os.path.exists(selected_file):\n",
    "        with open(selected_file, \"r\", encoding=\"utf-8\") as f:\n",
    "            text_editor.value = f.read()\n",
    "        with output_box:\n",
    "            clear_output()\n",
    "            print(f\"✅ Loaded: {selected_file}\")\n",
    "\n",
    "# 📌 Step 8: Save edited content to new version + latest file\n",
    "def save_edited_version(_):\n",
    "    edited_content = text_editor.value\n",
    "    timestamp = datetime.datetime.now().strftime(\"%Y%m%d_%H%M%S\")\n",
    "    \n",
    "    versioned_path = os.path.join(EDITED_DIR, f\"human_edit_{timestamp}.txt\")\n",
    "    latest_path = os.path.join(EDITED_DIR, \"human_edit_latest.txt\")\n",
    "\n",
    "    with open(versioned_path, \"w\", encoding=\"utf-8\") as f:\n",
    "        f.write(edited_content)\n",
    "    with open(latest_path, \"w\", encoding=\"utf-8\") as f:\n",
    "        f.write(edited_content)\n",
    "    \n",
    "    with output_box:\n",
    "        clear_output()\n",
    "        print(f\"✅ Edit saved as version: {versioned_path}\")\n",
    "        print(f\"🆕 Also updated: {latest_path}\")\n",
    "\n",
    "# 📌 Step 9: Button Actions\n",
    "load_button.on_click(load_selected_file)\n",
    "save_button.on_click(save_edited_version)\n",
    "\n",
    "# 📌 Step 10: UI Display\n",
    "display(widgets.VBox([\n",
    "    dropdown,\n",
    "    load_button,\n",
    "    text_editor,\n",
    "    save_button,\n",
    "    output_box\n",
    "]))\n"
   ]
  },
  {
   "cell_type": "code",
<<<<<<< HEAD
   "execution_count": 2,
=======
   "execution_count": 13,
>>>>>>> 6f0beb6 (initial workflow done)
   "id": "c7d5e074-f7d5-41cb-a4b0-a69fbb0d2cfd",
   "metadata": {},
   "outputs": [
    {
     "name": "stdout",
     "output_type": "stream",
     "text": [
<<<<<<< HEAD
      "🎯 Reward Score: 0.87\n",
      "✅ Human edit added to ChromaDB with ID: fa81fab3-54e5-47cc-bf05-587a4b8fc527\n"
=======
      "🎯 Reward Score: 0.7425\n",
      "✅ Human edit added to ChromaDB with ID: 594fa8b5-55dd-48a1-9f43-c07100aaa3c7\n"
>>>>>>> 6f0beb6 (initial workflow done)
     ]
    }
   ],
   "source": [
    "# ✅ Imports\n",
    "import os, sys, uuid\n",
    "import datetime\n",
    "\n",
    "sys.path.append(os.path.abspath(\"..\"))\n",
    "\n",
    "from utils.embedding_utils import load_embedder\n",
    "from utils.chroma_utils import get_chroma_collection, add_to_chroma\n",
    "# from utils.writer_agent import writer_agent  # if needed in reward calculation\n",
    "from utils.reward_score import get_reward_score\n",
    "\n",
    "# ✅ Paths\n",
    "edit_path = \"assets/human_edits/human_edit_latest.txt\"\n",
    "if not os.path.exists(edit_path):\n",
    "    raise FileNotFoundError(\"❌ human_edit_latest.txt not found. First save from the UI.\")\n",
    "\n",
    "# ✅ Read content\n",
    "with open(edit_path, \"r\", encoding=\"utf-8\") as f:\n",
    "    edited_text = f.read().strip()\n",
    "\n",
    "# ✅ Generate metadata\n",
    "timestamp = datetime.datetime.now().strftime(\"%Y-%m-%d %H:%M:%S\")\n",
    "unique_id = str(uuid.uuid4())\n",
    "\n",
    "# ✅ Get reward score\n",
    "reward = get_reward_score(edited_text)\n",
    "print(\"🎯 Reward Score:\", reward)\n",
    "\n",
    "# ✅ Setup Chroma\n",
    "embedder = load_embedder()\n",
    "collection = get_chroma_collection()\n",
    "\n",
    "# ✅ Add to ChromaDB\n",
    "add_to_chroma(\n",
    "    collection=collection,\n",
    "    texts=[edited_text],\n",
    "    metadatas=[{\"timestamp\": timestamp, \"source\": \"human_edit\", \"reward_score\": reward}],\n",
    "    ids=[unique_id],\n",
    "    embed_fn=embedder\n",
    ")\n",
    "\n",
    "print(f\"✅ Human edit added to ChromaDB with ID: {unique_id}\")\n"
   ]
  },
  {
   "cell_type": "code",
   "execution_count": null,
   "id": "1964e8e4-a739-4cc1-8a46-576257d94251",
   "metadata": {},
   "outputs": [],
   "source": []
  }
 ],
 "metadata": {
  "kernelspec": {
   "display_name": "Python 3 (ipykernel)",
   "language": "python",
   "name": "python3"
  },
  "language_info": {
   "codemirror_mode": {
    "name": "ipython",
    "version": 3
   },
   "file_extension": ".py",
   "mimetype": "text/x-python",
   "name": "python",
   "nbconvert_exporter": "python",
   "pygments_lexer": "ipython3",
   "version": "3.13.3"
  }
 },
 "nbformat": 4,
 "nbformat_minor": 5
}
