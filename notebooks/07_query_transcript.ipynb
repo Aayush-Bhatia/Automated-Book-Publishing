{
 "cells": [
  {
   "cell_type": "code",
   "execution_count": 2,
   "id": "92fa3353-fefd-430b-a58c-7d13b68e49db",
   "metadata": {},
   "outputs": [
    {
     "name": "stdin",
     "output_type": "stream",
     "text": [
      "❓ Ask something from the transcript:  hello\n"
     ]
    },
    {
     "name": "stdout",
     "output_type": "stream",
     "text": [
      "\n",
      "🔍 Top Relevant Result:\n",
      "\n",
      "📄 Text: --- 20250716_140611 ---\n",
      "hello first time ka format dekhna hai\n",
      "🕒 Metadata: {'timestamp': 'manual_entry'}\n"
     ]
    }
   ],
   "source": [
    "# ✅ Imports\n",
    "import os, sys\n",
    "sys.path.append(os.path.abspath(\"..\"))\n",
    "\n",
    "from utils.embedding_utils import load_embedder\n",
    "from utils.chroma_utils import get_chroma_collection, semantic_search\n",
    "\n",
    "# ✅ Setup\n",
    "embedder = load_embedder()\n",
    "collection = get_chroma_collection()\n",
    "\n",
    "# ✅ Ask user for query\n",
    "query = input(\"❓ Ask something from the transcript: \")\n",
    "\n",
    "# ✅ Perform Semantic Search\n",
    "results = semantic_search(collection, query, embedder)\n",
    "\n",
    "# ✅ Show Top Result\n",
    "print(\"\\n🔍 Top Relevant Result:\\n\")\n",
    "print(\"📄 Text:\", results['documents'][0][0])\n",
    "print(\"🕒 Metadata:\", results['metadatas'][0][0])\n"
   ]
  },
  {
   "cell_type": "code",
<<<<<<< HEAD
   "execution_count": 1,
=======
   "execution_count": 3,
>>>>>>> 6f0beb6 (initial workflow done)
   "id": "207b4bc1-f3f5-49d9-86d3-33d027743dff",
   "metadata": {},
   "outputs": [
    {
     "data": {
      "application/vnd.jupyter.widget-view+json": {
<<<<<<< HEAD
       "model_id": "b40779e53cf648139d30da16736cb4d1",
=======
       "model_id": "313a889fd63e4ef0936116c0d0ac082c",
>>>>>>> 6f0beb6 (initial workflow done)
       "version_major": 2,
       "version_minor": 0
      },
      "text/plain": [
       "VBox(children=(IntSlider(value=10, continuous_update=False, description='⏱ Record Time (sec)', max=60, min=5, …"
      ]
     },
     "metadata": {},
     "output_type": "display_data"
    }
   ],
   "source": [
<<<<<<< HEAD
    "\n",
=======
    "# ✅ Step 1: Imports\n",
>>>>>>> 6f0beb6 (initial workflow done)
    "import os\n",
    "import sys\n",
    "import time\n",
    "import threading\n",
    "from IPython.display import display, clear_output\n",
    "import ipywidgets as widgets\n",
    "\n",
    "sys.path.append(os.path.abspath(\"..\"))\n",
    "\n",
    "from utils.voice_input import record_voice, transcribe_and_append\n",
    "from utils.embedding_utils import load_embedder\n",
    "from utils.chroma_utils import get_chroma_collection, semantic_search\n",
    "\n",
<<<<<<< HEAD
    "#UI Elements\n",
=======
    "# ✅ Step 2: UI Elements\n",
>>>>>>> 6f0beb6 (initial workflow done)
    "record_btn = widgets.Button(description=\"🎙️ Ask via Voice\", button_style=\"primary\")\n",
    "duration_slider = widgets.IntSlider(\n",
    "    value=10,\n",
    "    min=5,\n",
    "    max=60,\n",
    "    step=5,\n",
    "    description='⏱ Record Time (sec)',\n",
    "    style={'description_width': 'initial'},\n",
    "    continuous_update=False\n",
    ")\n",
    "timer_label = widgets.Label(value=\"⏱ 0 sec\")\n",
    "output = widgets.Output()\n",
    "\n",
<<<<<<< HEAD
    "# Timer function\n",
=======
    "# ✅ Step 3: Timer function for UI\n",
>>>>>>> 6f0beb6 (initial workflow done)
    "def update_timer(duration):\n",
    "    for i in range(duration + 1):\n",
    "        timer_label.value = f\"⏱ {i} sec\"\n",
    "        time.sleep(1)\n",
    "\n",
<<<<<<< HEAD
    "#On record button\n",
=======
    "# ✅ Step 4: On record button click\n",
>>>>>>> 6f0beb6 (initial workflow done)
    "def handle_voice_query(_):\n",
    "    with output:\n",
    "        clear_output()\n",
    "        print(\"🎙️ Recording Started...\")\n",
    "    \n",
    "    duration = duration_slider.value\n",
    "    timer_thread = threading.Thread(target=update_timer, args=(duration,))\n",
    "    timer_thread.start()\n",
    "\n",
<<<<<<< HEAD
    "    #Record and Transcribe\n",
=======
    "    # ✅ Record and Transcribe\n",
>>>>>>> 6f0beb6 (initial workflow done)
    "    wav_path, timestamp = record_voice(duration)\n",
    "    query = transcribe_and_append(wav_path, timestamp)\n",
    "\n",
    "    with output:\n",
    "        clear_output()\n",
    "        if query.strip() == \"\":\n",
    "            print(\"⚠️ No speech detected. Try again.\")\n",
    "            return\n",
    "        print(f\"🔍 You asked: {query}\\n\")\n",
    "\n",
<<<<<<< HEAD
    "    #embedder & ChromaDB\n",
    "    embedder = load_embedder()\n",
    "    collection = get_chroma_collection()\n",
    "\n",
    "    #Semantic Search\n",
    "    results = semantic_search(collection, query, embedder)\n",
    "\n",
    "    #top result\n",
=======
    "    # ✅ Load embedder & ChromaDB\n",
    "    embedder = load_embedder()\n",
    "    collection = get_chroma_collection()\n",
    "\n",
    "    # ✅ Perform Semantic Search\n",
    "    results = semantic_search(collection, query, embedder)\n",
    "\n",
    "    # ✅ Display top result\n",
>>>>>>> 6f0beb6 (initial workflow done)
    "    with output:\n",
    "        print(\"📄 Top Relevant Result:\\n\")\n",
    "        print(\"Text:\", results['documents'][0][0])\n",
    "        print(\"🕒 Metadata:\", results['metadatas'][0][0])\n",
    "\n",
<<<<<<< HEAD
    "# button\n",
    "record_btn.on_click(handle_voice_query)\n",
    "\n",
    "# Display UI\n",
=======
    "# ✅ Attach button action\n",
    "record_btn.on_click(handle_voice_query)\n",
    "\n",
    "# ✅ Step 5: Display UI\n",
>>>>>>> 6f0beb6 (initial workflow done)
    "display(widgets.VBox([\n",
    "    duration_slider,\n",
    "    timer_label,\n",
    "    record_btn,\n",
    "    output\n",
    "]))\n"
   ]
  },
  {
   "cell_type": "code",
   "execution_count": null,
   "id": "982def55-9e78-4107-986f-f4dcd3f30875",
   "metadata": {},
   "outputs": [],
   "source": []
  }
 ],
 "metadata": {
  "kernelspec": {
   "display_name": "Python 3 (ipykernel)",
   "language": "python",
   "name": "python3"
  },
  "language_info": {
   "codemirror_mode": {
    "name": "ipython",
    "version": 3
   },
   "file_extension": ".py",
   "mimetype": "text/x-python",
   "name": "python",
   "nbconvert_exporter": "python",
   "pygments_lexer": "ipython3",
   "version": "3.13.3"
  }
 },
 "nbformat": 4,
 "nbformat_minor": 5
}
