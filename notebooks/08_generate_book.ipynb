{
 "cells": [
  {
   "cell_type": "code",
   "execution_count": 1,
   "id": "2f7560ca-16fa-4f68-a413-a7e241f35c9d",
   "metadata": {},
   "outputs": [
    {
     "data": {
      "text/markdown": [
       "-- Final Book Generated Successfully!**"
      ],
      "text/plain": [
       "<IPython.core.display.Markdown object>"
      ]
     },
     "metadata": {},
     "output_type": "display_data"
    },
    {
     "name": "stdout",
     "output_type": "stream",
     "text": [
      "📘 Final path: ../assets/final_book/final_book_20250719_085938.txt\n",
      "🆕 Also saved as: ../assets/final_book/final_book_latest.txt\n"
     ]
    }
   ],
   "source": [
    "\n",
    "import os\n",
    "from datetime import datetime\n",
    "from IPython.display import display, Markdown\n",
    "\n",
    "#Folder path & output path\n",
    "EDITED_DIR = \"../assets/human_edits\"\n",
    "FINAL_BOOK_DIR = \"../assets/final_book\"\n",
    "os.makedirs(FINAL_BOOK_DIR, exist_ok=True)\n",
    "\n",
    "timestamp = datetime.now().strftime(\"%Y%m%d_%H%M%S\")\n",
    "final_txt_path = os.path.join(FINAL_BOOK_DIR, f\"final_book_{timestamp}.txt\")\n",
    "latest_path = os.path.join(FINAL_BOOK_DIR, \"final_book_latest.txt\")\n",
    "\n",
    "#Read and sort all edited chapter files\n",
    "all_files = sorted([\n",
    "    f for f in os.listdir(EDITED_DIR) \n",
    "    if f.endswith(\".txt\") and \"human_edit\" in f\n",
    "])\n",
    "\n",
    "if not all_files:\n",
    "    raise FileNotFoundError(\"-:- No human edits found in 'assets/human_edits'. Run previous steps first.\")\n",
    "\n",
    "#Merge all files into one\n",
    "with open(final_txt_path, \"w\", encoding=\"utf-8\") as outfile:\n",
    "    for fname in all_files:\n",
    "        chapter_path = os.path.join(EDITED_DIR, fname)\n",
    "        with open(chapter_path, \"r\", encoding=\"utf-8\") as infile:\n",
    "            content = infile.read()\n",
    "            outfile.write(content.strip() + \"\\n\\n\" + \"=\"*80 + \"\\n\\n\")\n",
    "\n",
    "#latest\n",
    "with open(latest_path, \"w\", encoding=\"utf-8\") as f_latest:\n",
    "    with open(final_txt_path, \"r\", encoding=\"utf-8\") as f_final:\n",
    "        f_latest.write(f_final.read())\n",
    "\n",
    "#\n",
    "display(Markdown(f\"-- Final Book Generated Successfully!**\"))\n",
    "print(\"📘 Final path:\", final_txt_path)\n",
    "print(\"🆕 Also saved as:\", latest_path)\n"
   ]
  },
  {
   "cell_type": "code",
   "execution_count": null,
   "id": "b6a3b86c-cc06-43ed-8478-10a19b9f8e38",
   "metadata": {},
   "outputs": [],
   "source": []
  }
 ],
 "metadata": {
  "kernelspec": {
   "display_name": "Python 3 (ipykernel)",
   "language": "python",
   "name": "python3"
  },
  "language_info": {
   "codemirror_mode": {
    "name": "ipython",
    "version": 3
   },
   "file_extension": ".py",
   "mimetype": "text/x-python",
   "name": "python",
   "nbconvert_exporter": "python",
   "pygments_lexer": "ipython3",
   "version": "3.13.3"
  }
 },
 "nbformat": 4,
 "nbformat_minor": 5
}
