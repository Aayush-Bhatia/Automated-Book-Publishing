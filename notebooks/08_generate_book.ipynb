{
 "cells": [
  {
   "cell_type": "code",
   "execution_count": 1,
   "id": "2f7560ca-16fa-4f68-a413-a7e241f35c9d",
   "metadata": {},
   "outputs": [
    {
     "data": {
      "text/markdown": [
<<<<<<< HEAD
       "-- Final Book Generated Successfully!**"
=======
       "✅ **Final Book Generated Successfully!**"
>>>>>>> 6f0beb6 (initial workflow done)
      ],
      "text/plain": [
       "<IPython.core.display.Markdown object>"
      ]
     },
     "metadata": {},
     "output_type": "display_data"
    },
    {
     "name": "stdout",
     "output_type": "stream",
     "text": [
<<<<<<< HEAD
      "📘 Final path: ../assets/final_book/final_book_20250719_085938.txt\n",
=======
      "📘 Final path: ../assets/final_book/final_book_20250717_010055.txt\n",
>>>>>>> 6f0beb6 (initial workflow done)
      "🆕 Also saved as: ../assets/final_book/final_book_latest.txt\n"
     ]
    }
   ],
   "source": [
<<<<<<< HEAD
    "\n",
=======
    "# ✅ Step 1: Imports\n",
>>>>>>> 6f0beb6 (initial workflow done)
    "import os\n",
    "from datetime import datetime\n",
    "from IPython.display import display, Markdown\n",
    "\n",
<<<<<<< HEAD
    "#Folder path & output path\n",
=======
    "# ✅ Step 2: Folder path & output path\n",
>>>>>>> 6f0beb6 (initial workflow done)
    "EDITED_DIR = \"../assets/human_edits\"\n",
    "FINAL_BOOK_DIR = \"../assets/final_book\"\n",
    "os.makedirs(FINAL_BOOK_DIR, exist_ok=True)\n",
    "\n",
    "timestamp = datetime.now().strftime(\"%Y%m%d_%H%M%S\")\n",
    "final_txt_path = os.path.join(FINAL_BOOK_DIR, f\"final_book_{timestamp}.txt\")\n",
    "latest_path = os.path.join(FINAL_BOOK_DIR, \"final_book_latest.txt\")\n",
    "\n",
<<<<<<< HEAD
    "#Read and sort all edited chapter files\n",
=======
    "# ✅ Step 3: Read and sort all edited chapter files\n",
>>>>>>> 6f0beb6 (initial workflow done)
    "all_files = sorted([\n",
    "    f for f in os.listdir(EDITED_DIR) \n",
    "    if f.endswith(\".txt\") and \"human_edit\" in f\n",
    "])\n",
    "\n",
    "if not all_files:\n",
<<<<<<< HEAD
    "    raise FileNotFoundError(\"-:- No human edits found in 'assets/human_edits'. Run previous steps first.\")\n",
    "\n",
    "#Merge all files into one\n",
=======
    "    raise FileNotFoundError(\"⚠️ No human edits found in 'assets/human_edits'. Run previous steps first.\")\n",
    "\n",
    "# ✅ Step 4: Merge all files into one\n",
>>>>>>> 6f0beb6 (initial workflow done)
    "with open(final_txt_path, \"w\", encoding=\"utf-8\") as outfile:\n",
    "    for fname in all_files:\n",
    "        chapter_path = os.path.join(EDITED_DIR, fname)\n",
    "        with open(chapter_path, \"r\", encoding=\"utf-8\") as infile:\n",
    "            content = infile.read()\n",
    "            outfile.write(content.strip() + \"\\n\\n\" + \"=\"*80 + \"\\n\\n\")\n",
    "\n",
<<<<<<< HEAD
    "#latest\n",
=======
    "# ✅ Save as latest\n",
>>>>>>> 6f0beb6 (initial workflow done)
    "with open(latest_path, \"w\", encoding=\"utf-8\") as f_latest:\n",
    "    with open(final_txt_path, \"r\", encoding=\"utf-8\") as f_final:\n",
    "        f_latest.write(f_final.read())\n",
    "\n",
<<<<<<< HEAD
    "#\n",
    "display(Markdown(f\"-- Final Book Generated Successfully!**\"))\n",
=======
    "# ✅ Done\n",
    "display(Markdown(f\"✅ **Final Book Generated Successfully!**\"))\n",
>>>>>>> 6f0beb6 (initial workflow done)
    "print(\"📘 Final path:\", final_txt_path)\n",
    "print(\"🆕 Also saved as:\", latest_path)\n"
   ]
  },
  {
   "cell_type": "code",
   "execution_count": null,
   "id": "b6a3b86c-cc06-43ed-8478-10a19b9f8e38",
   "metadata": {},
   "outputs": [],
   "source": []
  }
 ],
 "metadata": {
  "kernelspec": {
   "display_name": "Python 3 (ipykernel)",
   "language": "python",
   "name": "python3"
  },
  "language_info": {
   "codemirror_mode": {
    "name": "ipython",
    "version": 3
   },
   "file_extension": ".py",
   "mimetype": "text/x-python",
   "name": "python",
   "nbconvert_exporter": "python",
   "pygments_lexer": "ipython3",
   "version": "3.13.3"
  }
 },
 "nbformat": 4,
 "nbformat_minor": 5
}
